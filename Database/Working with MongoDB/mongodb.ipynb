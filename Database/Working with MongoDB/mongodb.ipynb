{
 "cells": [
  {
   "cell_type": "code",
   "execution_count": null,
   "metadata": {},
   "outputs": [],
   "source": [
    "#https://www.mongodb.com"
   ]
  },
  {
   "cell_type": "code",
   "execution_count": null,
   "metadata": {},
   "outputs": [],
   "source": [
    "import packaging\n",
    "#connection string into application code\n",
    "client = pymongo.MongoClient('code from mongodb site')\n",
    "db = client.test"
   ]
  },
  {
   "cell_type": "code",
   "execution_count": 1,
   "metadata": {},
   "outputs": [
    {
     "name": "stdout",
     "output_type": "stream",
     "text": [
      "Defaulting to user installation because normal site-packages is not writeable\n",
      "Collecting pymongo\n",
      "  Obtaining dependency information for pymongo from https://files.pythonhosted.org/packages/84/a8/af969731cd8e0e0213636d8b1875009a73260bfbf294129342fe02070c68/pymongo-4.6.1-cp312-cp312-win_amd64.whl.metadata\n",
      "  Downloading pymongo-4.6.1-cp312-cp312-win_amd64.whl.metadata (22 kB)\n",
      "Collecting dnspython<3.0.0,>=1.16.0 (from pymongo)\n",
      "  Obtaining dependency information for dnspython<3.0.0,>=1.16.0 from https://files.pythonhosted.org/packages/b6/83/4a684a63d395007670bc95c1947c07045fe66141574e2f7e9e347df8499a/dnspython-2.5.0-py3-none-any.whl.metadata\n",
      "  Using cached dnspython-2.5.0-py3-none-any.whl.metadata (5.8 kB)\n",
      "Downloading pymongo-4.6.1-cp312-cp312-win_amd64.whl (472 kB)\n",
      "   ---------------------------------------- 0.0/472.8 kB ? eta -:--:--\n",
      "    --------------------------------------- 10.2/472.8 kB ? eta -:--:--\n",
      "   -- ------------------------------------ 30.7/472.8 kB 330.3 kB/s eta 0:00:02\n",
      "   ----- --------------------------------- 61.4/472.8 kB 409.6 kB/s eta 0:00:02\n",
      "   ----------- -------------------------- 143.4/472.8 kB 711.9 kB/s eta 0:00:01\n",
      "   ------------------ ------------------- 235.5/472.8 kB 901.1 kB/s eta 0:00:01\n",
      "   ---------------------------- ----------- 337.9/472.8 kB 1.1 MB/s eta 0:00:01\n",
      "   ---------------------------------- ----- 409.6/472.8 kB 1.1 MB/s eta 0:00:01\n",
      "   ---------------------------------------- 472.8/472.8 kB 1.1 MB/s eta 0:00:00\n",
      "Using cached dnspython-2.5.0-py3-none-any.whl (305 kB)\n",
      "Installing collected packages: dnspython, pymongo\n",
      "Successfully installed dnspython-2.5.0 pymongo-4.6.1\n",
      "Note: you may need to restart the kernel to use updated packages.\n"
     ]
    },
    {
     "name": "stderr",
     "output_type": "stream",
     "text": [
      "\n",
      "[notice] A new release of pip is available: 23.2.1 -> 23.3.2\n",
      "[notice] To update, run: python.exe -m pip install --upgrade pip\n"
     ]
    }
   ],
   "source": [
    "pip install pymongo\n"
   ]
  },
  {
   "cell_type": "code",
   "execution_count": null,
   "metadata": {},
   "outputs": [],
   "source": [
    "client = pymongo.MongoClient('code from mongodb site')"
   ]
  },
  {
   "cell_type": "code",
   "execution_count": null,
   "metadata": {},
   "outputs": [],
   "source": [
    "db = client['cyrolux']"
   ]
  },
  {
   "cell_type": "code",
   "execution_count": null,
   "metadata": {},
   "outputs": [],
   "source": [
    "data = {\n",
    "    'name': 'cyrolux',\n",
    "    'language': 'python',\n",
    "    'framework': 'django'\n",
    "}"
   ]
  },
  {
   "cell_type": "code",
   "execution_count": null,
   "metadata": {},
   "outputs": [],
   "source": [
    "collection = db['my_record']"
   ]
  },
  {
   "cell_type": "code",
   "execution_count": null,
   "metadata": {},
   "outputs": [],
   "source": [
    "collection.insert_one(data)"
   ]
  },
  {
   "cell_type": "code",
   "execution_count": null,
   "metadata": {},
   "outputs": [],
   "source": [
    "data1 = {\n",
    "    'mail_id': 'nk@gmail.com',\n",
    "    'phone': '1234567890',\n",
    "    'address': 'xyz'\n",
    "}"
   ]
  },
  {
   "cell_type": "code",
   "execution_count": null,
   "metadata": {},
   "outputs": [],
   "source": [
    "collection.insert_one(data1)"
   ]
  },
  {
   "cell_type": "code",
   "execution_count": null,
   "metadata": {},
   "outputs": [],
   "source": [
    "data2 = [\n",
    "    {'name': 'cyrolux', 'language': 'python', 'framework': 'django'},\n",
    "    {'name': 'cyrolux', 'language': 'python', 'framework': 'django'},\n",
    "    {'name': 'cyrolux', 'language': 'python', 'framework': 'django'},\n",
    "    {'name': 'cyrolux', 'language': 'python', 'framework': 'django'},\n",
    "    {'name': 'cyrolux', 'language': 'python', 'framework': 'django'},\n",
    "]"
   ]
  },
  {
   "cell_type": "code",
   "execution_count": null,
   "metadata": {},
   "outputs": [],
   "source": [
    "collection.insert_many(data2)"
   ]
  },
  {
   "cell_type": "code",
   "execution_count": null,
   "metadata": {},
   "outputs": [],
   "source": [
    "data3 = {\n",
    "    'name' : 'cyro',\n",
    "    'qty' : 5,\n",
    "    'rating' : [{'score' : 8}, {'score' : 9}],\n",
    "    'size' : {'h' : 28, 'w' : 35.5, 'unit' : 'cm'},\n",
    "    'status' : 'A',\n",
    "    'tags' : ['good', 'nice']\n",
    "}"
   ]
  },
  {
   "cell_type": "code",
   "execution_count": null,
   "metadata": {},
   "outputs": [],
   "source": [
    "collection.insert_one(data3)"
   ]
  },
  {
   "cell_type": "code",
   "execution_count": null,
   "metadata": {},
   "outputs": [],
   "source": [
    "list_of_records = [\n",
    "    {\n",
    "        'name' : 'amy',\n",
    "        'age' : 23,\n",
    "        'score' : 10\n",
    "    },\n",
    "    {\n",
    "        'name' : 'bob',\n",
    "        'age' : 27,\n",
    "        'score' : 9\n",
    "    },\n",
    "    {\n",
    "        'name' : 'cyro',\n",
    "        'age' : 21,\n",
    "        'score' : 8\n",
    "    },\n",
    "    {\n",
    "        'name' : 'dave',\n",
    "        'age' : 22,\n",
    "        'score' : 7\n",
    "    },\n",
    "    {\n",
    "        'name' : 'eve',\n",
    "        'age' : 25,\n",
    "        'score' : 6\n",
    "    }"
   ]
  },
  {
   "cell_type": "code",
   "execution_count": null,
   "metadata": {},
   "outputs": [],
   "source": [
    "collection.insert_many(list_of_records)"
   ]
  },
  {
   "cell_type": "code",
   "execution_count": null,
   "metadata": {},
   "outputs": [],
   "source": [
    "collection.find_one()"
   ]
  },
  {
   "cell_type": "code",
   "execution_count": null,
   "metadata": {},
   "outputs": [],
   "source": [
    "for i in collection.find():\n",
    "    print(i)"
   ]
  },
  {
   "cell_type": "code",
   "execution_count": null,
   "metadata": {},
   "outputs": [],
   "source": [
    "for i in collection.find({'name': 'cyrolux'}):\n",
    "    print(i)"
   ]
  },
  {
   "cell_type": "code",
   "execution_count": null,
   "metadata": {},
   "outputs": [],
   "source": [
    "random_data = [\n",
    "    {'name': 'amy', 'age': 23, 'score': 10},\n",
    "    {'name': 'bob', 'age': 27, 'score': 9},\n",
    "    {'name': 'cyro', 'age': 21, 'score': 8},\n",
    "    {'name': 'dave', 'age': 22, 'score': 7},\n",
    "    {'name': 'eve', 'age': 25, 'score': 6}\n",
    "]"
   ]
  },
  {
   "cell_type": "code",
   "execution_count": null,
   "metadata": {},
   "outputs": [],
   "source": [
    "collection.insert(random_data)"
   ]
  },
  {
   "cell_type": "code",
   "execution_count": null,
   "metadata": {},
   "outputs": [],
   "source": [
    "for i in collection.find():\n",
    "    print(i)"
   ]
  },
  {
   "cell_type": "code",
   "execution_count": null,
   "metadata": {},
   "outputs": [],
   "source": [
    "for i in collection.find({'age': {'$gt': 22}}):\n",
    "    print(i)"
   ]
  },
  {
   "cell_type": "code",
   "execution_count": null,
   "metadata": {},
   "outputs": [],
   "source": [
    "collection.update_many({'name': 'amy'}, {'$set': {'name': 'amy1'}})"
   ]
  }
 ],
 "metadata": {
  "kernelspec": {
   "display_name": "Python 3",
   "language": "python",
   "name": "python3"
  },
  "language_info": {
   "codemirror_mode": {
    "name": "ipython",
    "version": 3
   },
   "file_extension": ".py",
   "mimetype": "text/x-python",
   "name": "python",
   "nbconvert_exporter": "python",
   "pygments_lexer": "ipython3",
   "version": "3.12.0"
  }
 },
 "nbformat": 4,
 "nbformat_minor": 2
}
